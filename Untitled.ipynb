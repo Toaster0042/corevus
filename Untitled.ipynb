{
 "cells": [
  {
   "cell_type": "code",
   "execution_count": 13,
   "id": "c8509479-e12f-4860-aa59-7ca0aa81a591",
   "metadata": {},
   "outputs": [],
   "source": [
    "import math\n",
    "import forallpeople\n",
    "forallpeople.environment('default', top_level=True)"
   ]
  },
  {
   "cell_type": "code",
   "execution_count": 2,
   "id": "88670eba-9994-40c8-96ab-4be73b684044",
   "metadata": {},
   "outputs": [
    {
     "name": "stdout",
     "output_type": "stream",
     "text": [
      "{'Hz': 1.000 Hz, 'N': 1.000 N, 'Pa': 1.000 Pa, 'J': 1.000 J, 'W': 1.000 W, 'C': 1.000 C, 'V': 1.000 V, 'F': 1.000 F, 'Ohm': 1.000 Ω, 'S': 1.000 S, 'Wb': 1.000 Wb, 'T': 1.000 T, 'H': 1.000 H, 'Celsius': 1.000 °C, 'lux': 1.000 lux, 'Gy': 1.000 Gy, 'katal': 1.000 kat, 'minute': 1.000 minutes, 'hour': 1.000 hours, 'day': 1.000 days} \n",
      " {'kg': 1.000 kg, 'm': 1.000 m, 's': 1.000 s, 'A': 1.000 A, 'cd': 1.000 cd, 'K': 1.000 °C, 'mol': 1.000 mol}\n"
     ]
    }
   ],
   "source": [
    "forallpeople.environment()"
   ]
  },
  {
   "cell_type": "code",
   "execution_count": 49,
   "id": "154bb99a-72ef-4be4-9049-6c3b85925c84",
   "metadata": {},
   "outputs": [],
   "source": [
    "V_in = 24*V\n",
    "V_out = 5*V\n",
    "I_out = 5*A\n",
    "F_sw = 400e3*Hz"
   ]
  },
  {
   "cell_type": "code",
   "execution_count": 50,
   "id": "1a498eb2-382a-4f98-b9ec-b832b60ec8cb",
   "metadata": {},
   "outputs": [
    {
     "data": {
      "text/plain": [
       "0.16"
      ]
     },
     "execution_count": 50,
     "metadata": {},
     "output_type": "execute_result"
    }
   ],
   "source": [
    "V_ref = 0.8*V\n",
    "V_ref / V_out"
   ]
  },
  {
   "cell_type": "code",
   "execution_count": 51,
   "id": "9008ca06-adcc-4818-b301-edf0a3d41d56",
   "metadata": {},
   "outputs": [],
   "source": [
    "# Internal compensation network\n",
    "R_s = 50e3*Ohm\n",
    "C_s = 4e-9*F\n",
    "C_p = 10e-12*F"
   ]
  },
  {
   "cell_type": "code",
   "execution_count": 52,
   "id": "d61e5d41-618c-4aea-8c5e-65e4ddca9758",
   "metadata": {},
   "outputs": [
    {
     "data": {
      "text/html": [
       "6.597 μH"
      ],
      "text/latex": [
       "$6.597\\ \\mathrm{μH}$"
      ],
      "text/markdown": [
       "6.597 μH"
      ],
      "text/plain": [
       "6.597 μH"
      ]
     },
     "execution_count": 52,
     "metadata": {},
     "output_type": "execute_result"
    }
   ],
   "source": [
    "# Inductor selection\n",
    "(V_in - V_out)/(I_out * 0.3) * (V_out / V_in) * (1 / F_sw)"
   ]
  },
  {
   "cell_type": "code",
   "execution_count": 53,
   "id": "2f80e0b8-98b3-41f6-a241-72508485f0c8",
   "metadata": {},
   "outputs": [
    {
     "data": {
      "text/html": [
       "10.000 μH"
      ],
      "text/latex": [
       "$10.000\\ \\mathrm{μH}$"
      ],
      "text/markdown": [
       "10.000 μH"
      ],
      "text/plain": [
       "10.000 μH"
      ]
     },
     "execution_count": 53,
     "metadata": {},
     "output_type": "execute_result"
    }
   ],
   "source": [
    "L = 10e-6*H\n",
    "L"
   ]
  },
  {
   "cell_type": "code",
   "execution_count": 54,
   "id": "b23b1e7d-bfe4-4f40-8fb7-c0f9ad69187d",
   "metadata": {},
   "outputs": [
    {
     "data": {
      "text/html": [
       "44.000 μF"
      ],
      "text/latex": [
       "$44.000\\ \\mathrm{μF}$"
      ],
      "text/markdown": [
       "44.000 μF"
      ],
      "text/plain": [
       "44.000 μF"
      ]
     },
     "execution_count": 54,
     "metadata": {},
     "output_type": "execute_result"
    }
   ],
   "source": [
    "# output capacitors are two 22uF/25V MLCCs with 2.5 mOhm ESR at 400 kHz\n",
    "C_out = 44e-6*F\n",
    "C_esr = 1.25e-3*Ohm\n",
    "C_out"
   ]
  },
  {
   "cell_type": "code",
   "execution_count": 55,
   "id": "db4e373a-1ee6-4cd3-a752-24d4362ff810",
   "metadata": {},
   "outputs": [
    {
     "data": {
      "text/plain": [
       "6.283185307179586"
      ]
     },
     "execution_count": 55,
     "metadata": {},
     "output_type": "execute_result"
    }
   ],
   "source": [
    "tau = 2*math.pi\n",
    "tau"
   ]
  },
  {
   "cell_type": "code",
   "execution_count": 56,
   "id": "4c0ee8dd-8879-4e5f-990a-7de3291771ad",
   "metadata": {},
   "outputs": [
    {
     "data": {
      "text/html": [
       "7.587 kHz"
      ],
      "text/latex": [
       "$7.587\\ \\mathrm{kHz}$"
      ],
      "text/markdown": [
       "7.587 kHz"
      ],
      "text/plain": [
       "7.587 kHz"
      ]
     },
     "execution_count": 56,
     "metadata": {},
     "output_type": "execute_result"
    }
   ],
   "source": [
    "F_LC = 1 / (tau * math.sqrt(L * C_out)) # defective\n",
    "F_LC *= 1e6*Hz # bodge\n",
    "F_LC\n",
    "# double pole"
   ]
  },
  {
   "cell_type": "code",
   "execution_count": 57,
   "id": "1312f588-4e69-4f35-9964-1e4928f6cd7a",
   "metadata": {},
   "outputs": [
    {
     "data": {
      "text/html": [
       "2.894 MHz"
      ],
      "text/latex": [
       "$2.894\\ \\mathrm{MHz}$"
      ],
      "text/markdown": [
       "2.894 MHz"
      ],
      "text/plain": [
       "2.894 MHz"
      ]
     },
     "execution_count": 57,
     "metadata": {},
     "output_type": "execute_result"
    }
   ],
   "source": [
    "F_ESR = 1 / (tau * C_esr * C_out)\n",
    "F_ESR\n",
    "# zero"
   ]
  },
  {
   "cell_type": "code",
   "execution_count": 58,
   "id": "a36b1655-6235-4caf-85ac-c749a2dbde7c",
   "metadata": {},
   "outputs": [
    {
     "data": {
      "text/html": [
       "795.775 Hz"
      ],
      "text/latex": [
       "$795.775\\ \\mathrm{Hz}$"
      ],
      "text/markdown": [
       "795.775 Hz"
      ],
      "text/plain": [
       "795.775 Hz"
      ]
     },
     "execution_count": 58,
     "metadata": {},
     "output_type": "execute_result"
    }
   ],
   "source": [
    "F_z1 = 1 / (tau * R_s * C_s)\n",
    "F_z1\n",
    "# zero"
   ]
  },
  {
   "cell_type": "code",
   "execution_count": 59,
   "id": "5f48a439-04f4-4bf2-b85e-6191a7bc2498",
   "metadata": {},
   "outputs": [
    {
     "data": {
      "text/html": [
       "319.106 kHz"
      ],
      "text/latex": [
       "$319.106\\ \\mathrm{kHz}$"
      ],
      "text/markdown": [
       "319.106 kHz"
      ],
      "text/plain": [
       "319.106 kHz"
      ]
     },
     "execution_count": 59,
     "metadata": {},
     "output_type": "execute_result"
    }
   ],
   "source": [
    "F_p2 = 1 / (tau * R_s * (C_s*C_p/(C_s+C_p)))\n",
    "F_p2\n",
    "# pole"
   ]
  },
  {
   "cell_type": "code",
   "execution_count": 60,
   "id": "86bab58a-f1bd-4b1e-905c-b67c6310ee34",
   "metadata": {},
   "outputs": [
    {
     "data": {
      "text/html": [
       "12.528 mV"
      ],
      "text/latex": [
       "$12.528\\ \\mathrm{mV}$"
      ],
      "text/markdown": [
       "12.528 mV"
      ],
      "text/plain": [
       "12.528 mV"
      ]
     },
     "execution_count": 60,
     "metadata": {},
     "output_type": "execute_result"
    }
   ],
   "source": [
    "I_ripple = 0.3 * I_out\n",
    "V_ripple_esr = I_ripple * C_esr\n",
    "V_ripple_c = I_ripple / 8 / C_out / F_sw\n",
    "V_ripple = V_ripple_esr + V_ripple_c\n",
    "V_ripple"
   ]
  },
  {
   "cell_type": "code",
   "execution_count": null,
   "id": "c9682762-a69b-4fcd-a408-5cd2f41918da",
   "metadata": {},
   "outputs": [],
   "source": []
  }
 ],
 "metadata": {
  "kernelspec": {
   "display_name": "Python 3 (ipykernel)",
   "language": "python",
   "name": "python3"
  },
  "language_info": {
   "codemirror_mode": {
    "name": "ipython",
    "version": 3
   },
   "file_extension": ".py",
   "mimetype": "text/x-python",
   "name": "python",
   "nbconvert_exporter": "python",
   "pygments_lexer": "ipython3",
   "version": "3.10.12"
  }
 },
 "nbformat": 4,
 "nbformat_minor": 5
}
